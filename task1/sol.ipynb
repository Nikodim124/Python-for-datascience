{
  "nbformat": 4,
  "nbformat_minor": 0,
  "metadata": {
    "colab": {
      "name": "Untitled0.ipynb",
      "provenance": [],
      "collapsed_sections": []
    },
    "kernelspec": {
      "name": "python3",
      "display_name": "Python 3"
    },
    "language_info": {
      "name": "python"
    }
  },
  "cells": [
    {
      "cell_type": "code",
      "metadata": {
        "id": "bEW17bdVOZmV"
      },
      "source": [
        "import numpy as np"
      ],
      "execution_count": 30,
      "outputs": []
    },
    {
      "cell_type": "code",
      "metadata": {
        "id": "EdFs0lXMGa1Z"
      },
      "source": [
        "a = np.genfromtxt('out.csv',delimiter=',',skip_header=True)\n",
        "ematrix = np.eye(*a.shape)\n",
        "res = np.dot(a, ematrix.transpose())\n",
        "np.savetxt(\"new_out.csv\", res, delimiter=\",\")"
      ],
      "execution_count": 31,
      "outputs": []
    }
  ]
}